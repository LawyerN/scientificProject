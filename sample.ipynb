{
 "cells": [
  {
   "metadata": {},
   "cell_type": "markdown",
   "source": [
    "# This is a sample Jupyter Notebook\n",
    "\n",
    "Below is an example of a code cell. \n",
    "Put your cursor into the cell and press Shift+Enter to execute it and select the next one, or click 'Run Cell' button.\n",
    "\n",
    "Press Double Shift to search everywhere for classes, files, tool windows, actions, and settings.\n",
    "\n",
    "To learn more about Jupyter Notebooks in PyCharm, see [help](https://www.jetbrains.com/help/pycharm/ipython-notebook-support.html).\n",
    "For an overview of PyCharm, go to Help -> Learn IDE features or refer to [our documentation](https://www.jetbrains.com/help/pycharm/getting-started.html)."
   ],
   "id": "8a77807f92f26ee"
  },
  {
   "metadata": {
    "ExecuteTime": {
     "end_time": "2025-02-04T16:05:01.557890Z",
     "start_time": "2025-02-04T16:05:01.555066Z"
    }
   },
   "cell_type": "code",
   "source": "print(\"Hello World!\")\n",
   "id": "fbc121e30a2defb3",
   "outputs": [
    {
     "name": "stdout",
     "output_type": "stream",
     "text": [
      "Hello World!\n"
     ]
    }
   ],
   "execution_count": 2
  },
  {
   "metadata": {},
   "cell_type": "code",
   "outputs": [],
   "execution_count": null,
   "source": "",
   "id": "19937c6af40cfa69"
  },
  {
   "metadata": {},
   "cell_type": "code",
   "outputs": [],
   "execution_count": null,
   "source": "",
   "id": "d42fc2b44f3aafa2"
  },
  {
   "metadata": {
    "ExecuteTime": {
     "end_time": "2025-02-04T16:06:13.490757Z",
     "start_time": "2025-02-04T16:06:11.770842Z"
    }
   },
   "cell_type": "code",
   "source": [
    "import pandas as pd\n",
    "import yfinance as yf\n",
    "\n"
   ],
   "id": "226a248d9cb1c4d7",
   "outputs": [],
   "execution_count": 3
  },
  {
   "metadata": {
    "ExecuteTime": {
     "end_time": "2025-02-04T16:10:44.626420Z",
     "start_time": "2025-02-04T16:10:42.289607Z"
    }
   },
   "cell_type": "code",
   "source": [
    "tesla = yf.download('TSLA', period='1mo')\n",
    "tesla = tesla.reset_index()\n",
    "print(tesla.head())"
   ],
   "id": "f3a85e4ed5801068",
   "outputs": [
    {
     "name": "stderr",
     "output_type": "stream",
     "text": [
      "[*********************100%***********************]  1 of 1 completed"
     ]
    },
    {
     "name": "stdout",
     "output_type": "stream",
     "text": [
      "Price        Date       Close        High         Low        Open    Volume\n",
      "Ticker                   TSLA        TSLA        TSLA        TSLA      TSLA\n",
      "0      2025-01-06  411.049988  426.429993  401.700012  423.200012  85516500\n",
      "1      2025-01-07  394.359985  414.329987  390.000000  405.829987  75699500\n",
      "2      2025-01-08  394.940002  402.500000  387.399994  392.950012  73038800\n",
      "3      2025-01-10  394.739990  399.279999  377.290009  391.399994  62287300\n",
      "4      2025-01-13  403.309998  403.790009  380.070007  383.209991  67580500\n"
     ]
    },
    {
     "name": "stderr",
     "output_type": "stream",
     "text": [
      "\n"
     ]
    }
   ],
   "execution_count": 4
  },
  {
   "metadata": {
    "ExecuteTime": {
     "end_time": "2025-02-04T16:19:50.636032Z",
     "start_time": "2025-02-04T16:19:50.632283Z"
    }
   },
   "cell_type": "code",
   "source": [
    "import pandas as pd\n",
    "import requests\n",
    "from bs4 import BeautifulSoup"
   ],
   "id": "c255f6a7d815385b",
   "outputs": [],
   "execution_count": 5
  },
  {
   "metadata": {
    "ExecuteTime": {
     "end_time": "2025-02-04T16:34:53.472989Z",
     "start_time": "2025-02-04T16:34:52.428211Z"
    }
   },
   "cell_type": "code",
   "source": [
    "url = \"https://cf-courses-data.s3.us.cloud-object-storage.appdomain.cloud/IBMDeveloperSkillsNetwork-PY0220EN-SkillsNetwork/labs/project/revenue.htm\"\n",
    "data  = requests.get(url).text\n",
    "soup = BeautifulSoup(data, 'html.parser')\n",
    "tables = pd.read_html(str(soup))\n",
    "df = tables[0]\n",
    "\n",
    "print(df.tail())"
   ],
   "id": "7d450391ccb600a0",
   "outputs": [
    {
     "name": "stdout",
     "output_type": "stream",
     "text": [
      "    Tesla Annual Revenue (Millions of US $)  \\\n",
      "8                                      2013   \n",
      "9                                      2012   \n",
      "10                                     2011   \n",
      "11                                     2010   \n",
      "12                                     2009   \n",
      "\n",
      "   Tesla Annual Revenue (Millions of US $).1  \n",
      "8                                     $2,013  \n",
      "9                                       $413  \n",
      "10                                      $204  \n",
      "11                                      $117  \n",
      "12                                      $112  \n"
     ]
    },
    {
     "name": "stderr",
     "output_type": "stream",
     "text": [
      "C:\\Users\\User\\AppData\\Local\\Temp\\ipykernel_6148\\1162946893.py:4: FutureWarning: Passing literal html to 'read_html' is deprecated and will be removed in a future version. To read from a literal string, wrap it in a 'StringIO' object.\n",
      "  tables = pd.read_html(str(soup))\n"
     ]
    }
   ],
   "execution_count": 8
  },
  {
   "metadata": {
    "ExecuteTime": {
     "end_time": "2025-02-04T16:40:06.636828Z",
     "start_time": "2025-02-04T16:40:06.285561Z"
    }
   },
   "cell_type": "code",
   "source": [
    "gmstop = yf.download('GME', period='1mo')\n",
    "gmstop = gmstop.reset_index()\n",
    "print(gmstop.head())"
   ],
   "id": "6a4a64ca7df47052",
   "outputs": [
    {
     "name": "stderr",
     "output_type": "stream",
     "text": [
      "[*********************100%***********************]  1 of 1 completed"
     ]
    },
    {
     "name": "stdout",
     "output_type": "stream",
     "text": [
      "Price        Date      Close       High        Low       Open    Volume\n",
      "Ticker                   GME        GME        GME        GME       GME\n",
      "0      2025-01-06  32.820000  33.490002  30.760000  31.700001  12609400\n",
      "1      2025-01-07  33.369999  34.400002  31.709999  32.799999  13360700\n",
      "2      2025-01-08  32.959999  33.369999  32.410000  32.970001   6320000\n",
      "3      2025-01-10  32.310001  32.939999  31.400000  32.500000   7068200\n",
      "4      2025-01-13  31.020000  31.799999  30.900000  31.600000   5567000\n"
     ]
    },
    {
     "name": "stderr",
     "output_type": "stream",
     "text": [
      "\n"
     ]
    }
   ],
   "execution_count": 9
  },
  {
   "metadata": {
    "ExecuteTime": {
     "end_time": "2025-02-04T16:44:19.925430Z",
     "start_time": "2025-02-04T16:44:18.910950Z"
    }
   },
   "cell_type": "code",
   "source": [
    "url = \"https://cf-courses-data.s3.us.cloud-object-storage.appdomain.cloud/IBMDeveloperSkillsNetwork-PY0220EN-SkillsNetwork/labs/project/stock.html\"\n",
    "data  = requests.get(url).text\n",
    "soup = BeautifulSoup(data, 'html.parser')\n",
    "tables = pd.read_html(str(soup))\n",
    "df = tables[0]\n",
    "\n",
    "print(df.tail())"
   ],
   "id": "6a536bd6af863e86",
   "outputs": [
    {
     "name": "stdout",
     "output_type": "stream",
     "text": [
      "    GameStop Annual Revenue (Millions of US $)  \\\n",
      "11                                        2009   \n",
      "12                                        2008   \n",
      "13                                        2007   \n",
      "14                                        2006   \n",
      "15                                        2005   \n",
      "\n",
      "   GameStop Annual Revenue (Millions of US $).1  \n",
      "11                                       $8,806  \n",
      "12                                       $7,094  \n",
      "13                                       $5,319  \n",
      "14                                       $3,092  \n",
      "15                                       $1,843  \n"
     ]
    },
    {
     "name": "stderr",
     "output_type": "stream",
     "text": [
      "C:\\Users\\User\\AppData\\Local\\Temp\\ipykernel_6148\\1909405468.py:4: FutureWarning: Passing literal html to 'read_html' is deprecated and will be removed in a future version. To read from a literal string, wrap it in a 'StringIO' object.\n",
      "  tables = pd.read_html(str(soup))\n"
     ]
    }
   ],
   "execution_count": 10
  },
  {
   "metadata": {
    "ExecuteTime": {
     "end_time": "2025-02-04T20:24:14.936185Z",
     "start_time": "2025-02-04T20:24:14.763719Z"
    }
   },
   "cell_type": "code",
   "source": [
    "import yfinance as yf\n",
    "import pandas as pd\n",
    "import requests\n",
    "from bs4 import BeautifulSoup\n",
    "import plotly.graph_objects as go\n",
    "import plotly.io as pio\n",
    "\n",
    "pio.renderers.default = 'iframe'\n",
    "from plotly.subplots import make_subplots\n",
    "\n",
    "tesla = yf.download('GME', period='1mo')\n",
    "tesla = tesla.reset_index()\n",
    "\n",
    "\n",
    "\n",
    "print(tesla.dtypes)\n",
    "print(tesla.head())\n",
    "\n",
    "def make_graph(stock_data, stock_title):\n",
    "    fig = go.Figure()\n",
    "\n",
    "    fig.add_trace(go.Scatter(\n",
    "        x=stock_data[\"Date\"], \n",
    "        y=stock_data[\"Close\"], \n",
    "        mode=\"lines\", \n",
    "        name=\"Cena zamknięcia\"\n",
    "    ))\n",
    "\n",
    "    fig.update_layout(\n",
    "        title=stock_title,\n",
    "        xaxis_title=\"Data\",\n",
    "        yaxis_title=\"Cena akcji ($USD)\",\n",
    "        xaxis_rangeslider_visible=True\n",
    "    )\n",
    "\n",
    "    fig.show()\n",
    "\n",
    "\n",
    "\n",
    "\n",
    "#print(tesla.head())\n",
    "\n",
    "make_graph(tesla,  \"revenue stock graph\" )\n",
    "#print(tesla_revenue[tesla_revenue[\"Date\"].isna()])\n",
    "\n",
    "\n",
    "\n",
    "\n"
   ],
   "id": "aca388cccd72fa84",
   "outputs": [
    {
     "name": "stderr",
     "output_type": "stream",
     "text": [
      "[*********************100%***********************]  1 of 1 completed"
     ]
    },
    {
     "name": "stdout",
     "output_type": "stream",
     "text": [
      "Price   Ticker\n",
      "Date              datetime64[ns]\n",
      "Close   GME              float64\n",
      "High    GME              float64\n",
      "Low     GME              float64\n",
      "Open    GME              float64\n",
      "Volume  GME                int64\n",
      "dtype: object\n",
      "Price        Date      Close       High        Low       Open    Volume\n",
      "Ticker                   GME        GME        GME        GME       GME\n",
      "0      2025-01-06  32.820000  33.490002  30.760000  31.700001  12609400\n",
      "1      2025-01-07  33.369999  34.400002  31.709999  32.799999  13360700\n",
      "2      2025-01-08  32.959999  33.369999  32.410000  32.970001   6320000\n",
      "3      2025-01-10  32.310001  32.939999  31.400000  32.500000   7068200\n",
      "4      2025-01-13  31.020000  31.799999  30.900000  31.600000   5567000\n"
     ]
    },
    {
     "name": "stderr",
     "output_type": "stream",
     "text": [
      "\n"
     ]
    },
    {
     "data": {
      "text/html": [
       "<iframe\n",
       "    scrolling=\"no\"\n",
       "    width=\"100%\"\n",
       "    height=\"545px\"\n",
       "    src=\"iframe_figures/figure_51.html\"\n",
       "    frameborder=\"0\"\n",
       "    allowfullscreen\n",
       "></iframe>\n"
      ]
     },
     "metadata": {},
     "output_type": "display_data"
    }
   ],
   "execution_count": 51
  },
  {
   "metadata": {},
   "cell_type": "code",
   "outputs": [],
   "execution_count": null,
   "source": "",
   "id": "1ea559dd13d0d77b"
  }
 ],
 "metadata": {
  "kernelspec": {
   "display_name": "Python 3",
   "language": "python",
   "name": "python3"
  },
  "language_info": {
   "codemirror_mode": {
    "name": "ipython",
    "version": 2
   },
   "file_extension": ".py",
   "mimetype": "text/x-python",
   "name": "python",
   "nbconvert_exporter": "python",
   "pygments_lexer": "ipython2",
   "version": "2.7.6"
  }
 },
 "nbformat": 4,
 "nbformat_minor": 5
}
